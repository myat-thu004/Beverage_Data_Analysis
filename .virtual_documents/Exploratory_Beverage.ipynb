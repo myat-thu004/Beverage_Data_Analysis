





# import necessary libraries (Pandas , Numpy , matplotlib , scikit-learn, seaborn  )
import pandas as pd
import numpy as np
import matplotlib.pyplot as plt
import math
from sklearn.linear_model import LinearRegression
import seaborn as sns








# Firstly store "ERP_Beverage_Data_Medium" file in Your Google Drive to run the following code block
# connect with google drive (to get data from google drive)
# from google.colab import drive
# drive.mount('/content/drive')


# get each csv file and assign it in the variable
# variable_name = call pandas read_csv function ("file/paths/file.csv")
customer = pd.read_csv("./ERP_Beverage_Data_Medium/CustomerMaster.csv")
inventory = pd.read_csv("./ERP_Beverage_Data_Medium/InventoryBalances.csv")
product = pd.read_csv("./ERP_Beverage_Data_Medium/ProductMaster.csv")
pline = pd.read_csv("./ERP_Beverage_Data_Medium/ProductionLineMaster.csv")
porder = pd.read_csv("./ERP_Beverage_Data_Medium/ProductionOrders.csv")
sales = pd.read_csv("./ERP_Beverage_Data_Medium/SalesOrders.csv")
supplier = pd.read_csv("./ERP_Beverage_Data_Medium/SupplierMaster.csv")
wh = pd.read_csv("./ERP_Beverage_Data_Medium/WarehouseMaster.csv")


# in variable called dataframe : assign dictionary {} ,
#include {"key": value} where key is the name of dataframe and value is the dataframe table

dataframes = {"Customer":customer,
              "Inventory":inventory,"Product":product,"Product Line":pline,"Pruduct Order":porder,
              "Sales":sales,"Supplier":supplier,"Warehouse":wh}


#shape return (rows,columns)
for name,df in dataframes.items():
    print(f"{name} : {df.shape}", end='\n\n')





#for a quick view for each table use .head()

for name,df in dataframes.items():
  print(f"{name}\n{df.head()}", end='\n\n')








#check there is a null values in each table
#isna() return Ture=1/False=0 , and sum them return (total number of 1 or True which is missing values cells)
for name,df in dataframes.items():
    print(f"{name}\n{customer.isna().sum()}", end='\n\n')





for name,df in dataframes.items():
    print(f"{name}\n{inventory.duplicated().sum()}", end='\n\n')








for name,df in dataframes.items():
    print(name,end='\n\n')
    print(f"{df.info()}", end='\n\n')


#Change datatype object to string
for name in dataframes:
    dataframes[name]= dataframes[name].convert_dtypes()


#From inventory table, Change 'LastUpdated' column datatype to datetime for further analysis.
inventory['LastUpdated'] = pd.to_datetime(inventory['LastUpdated'])
dataframes['Inventory'] = inventory
print(inventory.info())


#From ProductOrder table, Change 'ProductionDate' column datatype to datetime for further analysis.
porder['ProductionDate'] = pd.to_datetime(porder['ProductionDate'])
dataframes['Product Order'] = porder
print(porder.info())


#From SalesOrder table, Change 'OrderDate' column datatype to datetime for further analysis.
sales['OrderDate'] = pd.to_datetime(sales['OrderDate'])
dataframes['Sales'] = sales
print(sales.info())


#check whether data type are correct.
for name,df in dataframes.items():
    print(name,end='\n\n')
    print(f"{df.info()}", end='\n\n')


numeric_dfs = []

large_scale_columns = ["OnHand","OnOrder","MaxCapacity","BatchSize","TotalProductionCost","Quantity","TotalAmount"]

for _,df in dataframes.items():
    numeric_dfs.append(df)

# Concatenate all numeric DataFrames
df_num = pd.concat(numeric_dfs, axis=1)

large_scale_df = df_num.loc[:,large_scale_columns]

# Plot boxplots for all numeric columns
plt.figure(figsize=(20, 10))
sns.boxplot(data=large_scale_df, orient='h', palette='Set3')
plt.title('Boxplots for All Numeric Columns', fontsize=16)
plt.xlabel('Values')
plt.ylabel('Columns')
plt.tight_layout()
plt.show()


medium_scale_columns = ["Capacity"]

medium_scale_df = df_num.loc[:,medium_scale_columns]

# Plot boxplots for all numeric columns
plt.figure(figsize=(7, 2))
sns.boxplot(data=medium_scale_df, orient='h', palette='Set3')
plt.title('Boxplots for All Numeric Columns', fontsize=16)
plt.xlabel('Values')
plt.ylabel('Columns')
plt.tight_layout()
plt.show()


small_scale_columns = ["BasePrice","UnitCost","UnitPrice"]

small_scale_df = df_num.loc[:,small_scale_columns]

# Plot boxplots for all numeric columns
plt.figure(figsize=(12, 4))
sns.boxplot(data=small_scale_df, orient='h', palette='Set3')
plt.title('Boxplots for All Numeric Columns', fontsize=16)
plt.xlabel('Values')
plt.ylabel('Columns')
plt.tight_layout()
plt.show()


# def count_outliers(series):
#     Q1 = series.quantile(0.25)
#     Q3 = series.quantile(0.75)
#     IQR = Q3 - Q1
#     lower_bound = Q1 - 1.5 * IQR
#     upper_bound = Q3 + 1.5 * IQR
#     outliers = series[(series < lower_bound) | (series > upper_bound)]
#     return len(outliers)

# # Calculate and print the number of outliers for each column
# outlier_counts = {}
# for column in df_num.columns:
#     outlier_counts[column] = count_outliers(df_num[column])

# # Display results
# for col, count in outlier_counts.items():
#     print(f"Column: {col}, Number of Outliers: {count}")








for name, df in dataframes.items():
    print(name, end='\n')
    print(f"{df.describe()}", end='\n\n')





numeric_dfs = []

# Iterate through all DataFrames
for name, df in dataframes.items():
    # Select numeric columns, excluding those containing 'ID'
    numeric_cols = df.select_dtypes(include=['int64', 'float64'])
    numeric_cols = numeric_cols.loc[:, ~numeric_cols.columns.str.contains('ID', case=False)]
    if not numeric_cols.empty:
        numeric_dfs.append(numeric_cols)

# Concatenate all numeric DataFrames
df_num = pd.concat(numeric_dfs, axis=1)

# Ensure column names are unique
df_num.columns = [f"{name}_{col}" for name, df in dataframes.items() for col in df.select_dtypes(include=['int64', 'float64']).columns if 'ID' not in col]

# Plot histograms for all numeric columns
axes = df_num.hist(figsize=(18, 20), bins=50, xlabelsize=8, ylabelsize=8)
for ax in axes.flatten():
    ax.title.set_fontsize(12)
plt.suptitle('Histograms for All Numeric Columns (Excluding Columns Containing "ID")', y=1.02, fontsize=16)
plt.tight_layout()
plt.show()





for name, df in dataframes.items():
    # Select only numeric columns (int and float) but exclude those ending with 'ID'
    numeric_df = df.select_dtypes(include=['int64', 'float64'])
    numeric_df = numeric_df.loc[:, ~numeric_df.columns.str.endswith('ID')]

    # Proceed only if there are more than one numeric columns
    if numeric_df.shape[1] > 1:
        # Calculate the correlation matrix
        correlation_matrix = numeric_df.corr()
        print(f"\nCorrelation Matrix for {name}:\n")
        print(correlation_matrix)
        sns.heatmap(correlation_matrix, annot=True, cmap='coolwarm')
        plt.title(f'Correlation Matrix for {name}')
        plt.show()
    else:
        print(f"\nSkipping correlation matrix for {name}: Less than 2 numeric columns (excluding 'ID').")


# Merge 1: Sales with Customers and Products
sales_customer_product = sales.merge(customer, on='CustomerID', how='left') \
                              .merge(product, on='ProductID', how='left')

# Merge 2: Inventory with Products and Warehouses
inventory_product_warehouse = inventory.merge(product, on='ProductID', how='left') \
                                       .merge(wh, on='WarehouseID', how='left')

# Merge 3: Production Orders with Production Lines and Products
production_order_details = porder.merge(pline, on='ProductionLineID', how='left') \
                                 .merge(product, on='ProductID', how='left')


# Preview merged datasets
print("Sales with Customers and Products:\n", sales_customer_product.head())
print("Inventory with Products and Warehouses:\n", inventory_product_warehouse.head())
print("Production Orders with Details:\n", production_order_details.head())





sales_by_category = sales_customer_product.groupby('ProductCategory')['TotalAmount'].sum().sort_values(ascending=False)
print(sales_by_category)
sales_by_category.plot(kind='bar', title='Sales by Product Category', figsize=(10, 6), ylabel='Total Sales', color= "#247afd")
plt.show()





sales_customer_product['Profit'] = sales_customer_product['TotalAmount'] - (sales_customer_product['Quantity'] * sales_customer_product['BasePrice'])
profit_by_product = sales_customer_product.groupby('ProductName')['Profit'].sum().sort_values(ascending=False)
print(profit_by_product)
profit_by_product.plot(kind='bar', title='Profit by Product', figsize=(12, 6), color= "#247afd")
plt.show()





sales_product = sales.merge(product, on='ProductID', how='left')

# Sales by Product
sales_by_product = sales_product.groupby('ProductName')['TotalAmount'].sum().sort_values(ascending=False)
print(sales_by_product)
sales_by_product.plot(kind='bar', figsize=(12, 6), title='Sales by Product', ylabel='Total Sales', color= "#247afd")
plt.show()





sales_customers = sales.merge(customer, on='CustomerID', how='left')

top_customers = sales_customers.groupby('CustomerName')['TotalAmount'].sum().nlargest(5)
print(top_customers)

top_customers.plot(kind='bar', figsize=(12, 6), title='Top Customers', ylabel='Total Amount',color= "#247afd")
plt.show()





# Convert OrderDate to datetime if not already
sales['OrderDate'] = pd.to_datetime(sales['OrderDate'])

# Extract month and year for analysis
sales['Month'] = sales['OrderDate'].dt.month
sales['Year'] = sales['OrderDate'].dt.year

# Monthly Sales Trends
monthly_sales = sales.groupby(['Year', 'Month'])['TotalAmount'].sum().reset_index()
print(monthly_sales)

# Plot Monthly Trends
plt.figure(figsize=(12, 6))
sns.lineplot(data=monthly_sales, x='Month', y='TotalAmount', hue='Year')
plt.title('Monthly Sales Trends')
plt.show()






# Group by CustomerCountry and calculate total sales
sales_by_country = sales_customer_product.groupby('CustomerCountry')['TotalAmount'].sum().sort_values(ascending=False)
print(sales_by_country)
# Plot the sales performance by country
sales_by_country.plot(kind='bar', figsize=(10, 6), title='Sales by Customer Country', ylabel='Total Sales', color= "#247afd")
plt.show()





# Group by ProductName and calculate total production cost

production_sales = sales.merge(production_order_details, on='ProductID', how='left')
production_sales.head()


productioncost_vs_sales = production_sales.groupby('ProductName').agg({
    'TotalAmount': 'sum',
    'TotalProductionCost': 'sum',
}).sort_values(by='TotalAmount', ascending=False)

print(productioncost_vs_sales)
#productioncost_vs_sales = production_sales.groupby('ProductName')['TotalProductionCost',].sum().sort_values(ascending=False)

# Plot production costs by product
productioncost_vs_sales.plot(kind='bar', figsize=( 15, 6), title='Production Costs and Sales by Product', ylabel='Total Production Cost')
plt.show()


# Merge sales and inventory data
sales_inventory = sales_customer_product.merge(inventory_product_warehouse, on='ProductID', how='inner')
print(sales_inventory.head())


sales_inventory_summary = sales_inventory.groupby('ProductName_y').agg({
    'TotalAmount': 'sum',
    'OnHand': 'sum',
    'OnOrder': 'sum'
}).sort_values(by='TotalAmount', ascending=False)
print(sales_inventory_summary)

# Plot sales vs. inventory
sales_inventory_summary.plot(kind='bar', figsize=(15, 6), title='Sales vs. Inventory Levels', ylabel='Quantity')
plt.show()


# sales_customer_product['Quarter'] = sales_customer_product['OrderDate'].dt.quarter
# sales_customer_product['Year'] = sales_customer_product['OrderDate'].dt.year
# sales_by_quarter = sales_customer_product.groupby(['Quarter','Year'])['TotalAmount'].sum().unstack()
# sales_by_quarter.plot(kind='line', figsize=(10, 6), title='Quarterly Sales Trends')
# plt.show()


sales_customer_product['YearMonth'] = sales_customer_product['OrderDate'].dt.to_period('M')
sales_growth = sales_customer_product.groupby(['YearMonth'])['TotalAmount'].sum().pct_change()
print(sales_growth * 100)
sales_growth.plot(kind='line', title='Sales Growth Rate', figsize=(12, 6),color= "#247afd")
plt.show()


# # Calculate the week number and add it as a new column
production_order_details["ProductionWeek"] = production_order_details["ProductionDate"].dt.isocalendar().week
production_order_details["ProductionYear"] = production_order_details["ProductionDate"].dt.year


production_trends = production_order_details.groupby(["ProductionYear",'ProductionWeek']).agg({"BatchSize":"sum"}).reset_index()

production_trends_2023 = production_trends.loc[production_trends["ProductionYear"]==2023,:]
production_trends_2024 = production_trends.loc[production_trends["ProductionYear"]==2024,:]
production_trends_2025 = production_trends.loc[production_trends["ProductionYear"]==2025,:]

print(production_trends_2023["BatchSize"].std())
print(production_trends_2024["BatchSize"].std())
print(production_trends_2025["BatchSize"].std())

# # Plot the production trends
plt.figure(figsize=(15,5))
plt.plot(production_trends_2023["ProductionWeek"],production_trends_2023["BatchSize"],label="2023")
plt.plot(production_trends_2024["ProductionWeek"],production_trends_2024["BatchSize"],label="2024")
plt.plot(production_trends_2025["ProductionWeek"],production_trends_2025["BatchSize"],label="2025")
plt.legend()
plt.grid(True)
plt.xticks(range(1,53,2))
plt.xlabel("Week")
plt.ylabel("BatchSize")
plt.show()


inventory_product_warehouse['TurnoverRate'] = inventory_product_warehouse['OnHand'] / inventory_product_warehouse['OnOrder']
inventory_product_warehouse.groupby('WarehouseName')['TurnoverRate'].mean().plot(kind='bar', title='Inventory Turnover by Warehouse', figsize=(10, 6),color= "#247afd")
plt.show()


sales_customer_product["SaleYear"] = sales_customer_product["OrderDate"].dt.year
sales_customer_product["SaleMonth"] = sales_customer_product["OrderDate"].dt.month


grouped_by = sales_customer_product.groupby(["SaleYear","ProductCategory"])["TotalAmount"].sum().reset_index()
grouped_by = grouped_by.sort_values(by=["SaleYear","TotalAmount"],ascending=False)
print(grouped_by)


palette = [ "#014182", "#247afd" ,"#82cafc", "#fffd78" ,"#fddc5c", "#fec615"]

# "#ffffb6" ,color= "#247afd","#0d75f8"
# Create the figure and plot

plt.figure(figsize=(12, 6))
sns.barplot(
    data=grouped_by,
    x="SaleYear",
    y="TotalAmount",
    hue="ProductCategory",
    palette=palette
)

# Add chart labels and title
plt.title("Sales by Category for Each Year", fontsize=16)
plt.xlabel("Year", fontsize=14)
plt.ylabel("Total Sales Amount", fontsize=14)
plt.legend(title="Product Category", fontsize=12)
plt.xticks(rotation=45, fontsize=12)
plt.tight_layout()

# Display the chart
plt.show()




