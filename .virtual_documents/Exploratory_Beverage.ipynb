





# import necessary libraries (Pandas , Numpy , matplotlib , scikit-learn, seaborn  )
import pandas as pd
import numpy as np
import matplotlib.pyplot as plt
import math
from sklearn.linear_model import LinearRegression
import seaborn as sns
# import warnings
# warnings.filterwarnings('ignore')


pip install geopy


# geo_data = pd.read_csv("world_cities_with_coordinates.csv")
# geo_data["City"] = geo_data["City"].str.capitalize()
# geo_data








# Firstly store "ERP_Beverage_Data_Medium" file in Your Google Drive to run the following code block
# connect with google drive (to get data from google drive)
# from google.colab import drive
# drive.mount('/content/drive')


# get each csv file and assign it in the variable
# variable_name = call pandas read_csv function ("file/paths/file.csv")
customer = pd.read_csv("./ERP_Beverage_Data_Medium/CustomerMaster.csv")
inventory = pd.read_csv("./ERP_Beverage_Data_Medium/InventoryBalances.csv")
product = pd.read_csv("./ERP_Beverage_Data_Medium/ProductMaster.csv")
pline = pd.read_csv("./ERP_Beverage_Data_Medium/ProductionLineMaster.csv")
porder = pd.read_csv("./ERP_Beverage_Data_Medium/ProductionOrders.csv")
sales = pd.read_csv("./ERP_Beverage_Data_Medium/SalesOrders.csv")
supplier = pd.read_csv("./ERP_Beverage_Data_Medium/SupplierMaster.csv")
wh = pd.read_csv("./ERP_Beverage_Data_Medium/WarehouseMaster.csv")


# in variable called dataframe : assign dictionary {} ,
#include {"key": value} where key is the name of dataframe and value is the dataframe table

dataframes = {"Customer":customer,
              "Inventory":inventory,"Product":product,"Product Line":pline,"Pruduct Order":porder,
              "Sales":sales,"Supplier":supplier,"Warehouse":wh}


#shape return (rows,columns)
for name,df in dataframes.items():
    print(f"{name} : {df.shape}", end='\n\n')





#for a quick view for each table use .head()

for name,df in dataframes.items():
  print(f"{name}\n{df.head()}", end='\n\n')








#check there is a null values in each table
#isna() return Ture=1/False=0 , and sum them return (total number of 1 or True which is missing values cells)
for name,df in dataframes.items():
    print(f"{name}\n{df.isna().sum()}", end='\n\n')





for name,df in dataframes.items():
    print(f"{name}\n{inventory.duplicated().sum()}", end='\n\n')








for name,df in dataframes.items():
    print(name,end='\n\n')
    print(f"{df.info()}", end='\n\n')


#Change datatype object to string
for name in dataframes:
    dataframes[name]= dataframes[name].convert_dtypes()


#From inventory table, Change 'LastUpdated' column datatype to datetime for further analysis.
inventory['LastUpdated'] = pd.to_datetime(inventory['LastUpdated'])
dataframes['Inventory'] = inventory
print(inventory.info())


#From ProductOrder table, Change 'ProductionDate' column datatype to datetime for further analysis.
porder['ProductionDate'] = pd.to_datetime(porder['ProductionDate'])
dataframes['Product Order'] = porder
print(porder.info())


#From SalesOrder table, Change 'OrderDate' column datatype to datetime for further analysis.
sales['OrderDate'] = pd.to_datetime(sales['OrderDate'])
dataframes['Sales'] = sales
print(sales.info())


#check whether data type are correct.
for name,df in dataframes.items():
    print(name,end='\n\n')
    print(f"{df.info()}", end='\n\n')


import pandas as pd
import matplotlib.pyplot as plt
import seaborn as sns

numeric_dfs = []

large_scale_columns = ["OnHand", "OnOrder", "MaxCapacity", "BatchSize", "TotalProductionCost", "Quantity", "TotalAmount"]

# Assuming `dataframes` is a dictionary of DataFrames
for _, df in dataframes.items():
    numeric_dfs.append(df)

# Concatenate all numeric DataFrames
df_num = pd.concat(numeric_dfs, axis=1)

# Remove duplicate column names
df_num = df_num.loc[:, ~df_num.columns.duplicated()]

# Filter for large scale columns
large_scale_df = df_num.loc[:, large_scale_columns]

# Plot boxplots for all numeric columns
plt.figure(figsize=(20, 10))
sns.boxplot(data=large_scale_df, orient='h', palette='Set3')
plt.title('Boxplots for Inventory Metrics', fontsize=16)
plt.xlabel('Values')
plt.ylabel('Columns')
plt.tight_layout()
plt.show()

# Calculate and print the statistics and outliers
print("Box Plot Statistics:")
total_outliers = 0

for column in large_scale_columns:
    stats = large_scale_df[column].describe()
    Q1 = stats['25%']
    Q3 = stats['75%']
    IQR = Q3 - Q1
    lower_bound = Q1 - 1.5 * IQR
    upper_bound = Q3 + 1.5 * IQR
    outliers = large_scale_df[(large_scale_df[column] < lower_bound) | (large_scale_df[column] > upper_bound)]
    num_outliers = outliers.shape[0]
    total_outliers += num_outliers
    
    print(f"\nColumn: {column}")
    print(f"Min: {stats['min']}")
    print(f"Q1 (25th Percentile): {stats['25%']}")
    print(f"Median (50th Percentile): {stats['50%']}")
    print(f"Q3 (75th Percentile): {stats['75%']}")
    print(f"Max: {stats['max']}")
    print(f"Number of Outliers: {num_outliers}")

print(f"\nTotal Number of Outliers Across All Columns: {total_outliers}")


medium_scale_columns = ["Capacity"]

# Filter for medium scale columns
medium_scale_df = df_num.loc[:, medium_scale_columns]

# Plot boxplots for the numeric column
plt.figure(figsize=(7, 2))
sns.boxplot(data=medium_scale_df, orient='h', palette='Set3')
plt.title('Boxplots for Capacity', fontsize=16)
plt.xlabel('Values')
plt.ylabel('Columns')
plt.tight_layout()
plt.show()

# Calculate and print the statistics
print("Box Plot Statistics for 'Capacity':")
for column in medium_scale_columns:
    stats = medium_scale_df[column].describe()
    print(f"\nColumn: {column}")
    print(f"Min: {stats['min']}")
    print(f"Q1 (25th Percentile): {stats['25%']}")
    print(f"Median (50th Percentile): {stats['50%']}")
    print(f"Q3 (75th Percentile): {stats['75%']}")
    print(f"Max: {stats['max']}")


small_scale_columns = ["BasePrice","UnitCost","UnitPrice"]

small_scale_df = df_num.loc[:,small_scale_columns]

# Plot boxplots for all numeric columns
plt.figure(figsize=(12, 4))
sns.boxplot(data=small_scale_df, orient='h', palette='Set3')
plt.title('Boxplots for Base Price, Unit Cost, Unit Price', fontsize=16)
plt.xlabel('Values')
plt.ylabel('Columns')
plt.tight_layout()
plt.show()


import matplotlib.pyplot as plt
import seaborn as sns

small_scale_columns = ["BasePrice", "UnitCost", "UnitPrice"]

# Filter for small scale columns
small_scale_df = df_num.loc[:, small_scale_columns]

# Plot boxplots for the numeric columns
plt.figure(figsize=(12, 4))
sns.boxplot(data=small_scale_df, orient='h', palette='Set3')
plt.title('Boxplots for Base Price, Unit Cost, Unit Price', fontsize=16)
plt.xlabel('Values')
plt.ylabel('Columns')
plt.tight_layout()
plt.show()

# Calculate and print the statistics
print("Box Plot Statistics for Small Scale Columns:")
for column in small_scale_columns:
    stats = small_scale_df[column].describe()
    print(f"\nColumn: {column}")
    print(f"Min: {stats['min']}")
    print(f"Q1 (25th Percentile): {stats['25%']}")
    print(f"Median (50th Percentile): {stats['50%']}")
    print(f"Q3 (75th Percentile): {stats['75%']}")
    print(f"Max: {stats['max']}")








for name, df in dataframes.items():
    print(name, end='\n')
    print(f"{df.describe()}", end='\n\n')





numeric_dfs = []

# Iterate through all DataFrames
for name, df in dataframes.items():
    # Select numeric columns, excluding those containing 'ID'
    numeric_cols = df.select_dtypes(include=['int64', 'float64'])
    numeric_cols = numeric_cols.loc[:, ~numeric_cols.columns.str.contains('ID', case=False)]
    if not numeric_cols.empty:
        numeric_dfs.append(numeric_cols)

# Concatenate all numeric DataFrames
df_num = pd.concat(numeric_dfs, axis=1)

# Ensure column names are unique
df_num.columns = [f"{name}_{col}" for name, df in dataframes.items() for col in df.select_dtypes(include=['int64', 'float64']).columns if 'ID' not in col]

# Plot histograms for all numeric columns
axes = df_num.hist(figsize=(18, 20), bins=50, xlabelsize=8, ylabelsize=8)
for ax in axes.flatten():
    ax.title.set_fontsize(12)
plt.suptitle('Histograms for All Numeric Columns (Excluding Columns Containing "ID")', y=1.02, fontsize=16)
plt.tight_layout()
plt.show()





for name, df in dataframes.items():
    # Select only numeric columns (int and float) but exclude those ending with 'ID'
    numeric_df = df.select_dtypes(include=['int64', 'float64'])
    numeric_df = numeric_df.loc[:, ~numeric_df.columns.str.endswith('ID')]

    # Proceed only if there are more than one numeric columns
    if numeric_df.shape[1] > 1:
        # Calculate the correlation matrix
        correlation_matrix = numeric_df.corr()
        print(f"\nCorrelation Matrix for {name}:\n")
        print(correlation_matrix)
        sns.heatmap(correlation_matrix, annot=True, cmap='coolwarm')
        plt.title(f'Correlation Matrix for {name}')
        plt.show()
    else:
        print(f"\nSkipping correlation matrix for {name}: Less than 2 numeric columns (excluding 'ID').")


# Merge 1: Sales with Customers and Products
sales_customer_product = sales.merge(customer, on='CustomerID', how='left') \
                              .merge(product, on='ProductID', how='left')

# Merge 2: Inventory with Products and Warehouses
inventory_product_warehouse = inventory.merge(product, on='ProductID', how='left') \
                                       .merge(wh, on='WarehouseID', how='left')

# Merge 3: Production Orders with Production Lines and Products
production_order_details = porder.merge(pline, on='ProductionLineID', how='left') \
                                 .merge(product, on='ProductID', how='left')


# Preview merged datasets
print("Sales with Customers and Products:\n", sales_customer_product.head())
print("Inventory with Products and Warehouses:\n", inventory_product_warehouse.head())
print("Production Orders with Details:\n", production_order_details.head())











# Merge sales with customer data
sales_customers = sales.merge(customer, on='CustomerID', how='left')

sales_customers.head()


#Who are our top customers by revenue and order frequency?
# Top customers by revenue
top_customers_revenue = sales_customers.groupby('CustomerName')['TotalAmount'].sum().nlargest(5)
print("Top Customers by Revenue:\n", top_customers_revenue)

top_customers_revenue.plot(kind='bar', figsize=(8, 4.5), title='Top Customers by Revenue', ylabel='Total Revenue', color="#247afd")
plt.show()

# Top customers by order frequency
top_customers_frequency = sales_customers['CustomerName'].value_counts().nlargest(5)
print("Top Customers by Order Frequency:\n", top_customers_frequency)

top_customers_frequency.plot(kind='bar', figsize=(8, 4.5) , title='Top Customers by Order Frequency', ylabel='Number of Orders', color="#fcbf24")
plt.show()



#Which regions (cities/countries) generate the most revenue?
# Revenue by Customer Country
revenue_by_country = sales_customers.groupby('CustomerCountry')['TotalAmount'].sum().sort_values(ascending=False)
print("Revenue by Country:\n", revenue_by_country)

revenue_by_country.plot(kind='bar', figsize=(12, 6), title='Revenue by Country', ylabel='Total Revenue', color="#1abc9c")
plt.show()

# Revenue by Customer City
revenue_by_city = sales_customers.groupby('CustomerCity')['TotalAmount'].sum().sort_values(ascending=False).nlargest(10)
print("Top 10 Cities by Revenue:\n", revenue_by_city)

revenue_by_city.plot(kind='bar', figsize=(12, 6), title='Top 10 Cities by Revenue', ylabel='Total Revenue', color="#9b59b6")
plt.show()



#What is the distribution of payment terms among customers (COD, NET45, etc.)?
# Distribution of Payment Terms
payment_terms_distribution = sales_customers['PaymentTerms'].value_counts()
print("Payment Terms Distribution:\n", payment_terms_distribution)

payment_terms_distribution.plot(kind='pie', figsize=(6, 6), autopct='%1.1f%%', title='Payment Terms Distribution')
plt.ylabel('')
plt.show()


#Are there seasonal trends in customer purchases?
sales_customers['OrderDate'] = pd.to_datetime(sales_customers['OrderDate'])
sales_customers['Month'] = sales_customers['OrderDate'].dt.month
sales_customers['Year'] = sales_customers['OrderDate'].dt.year

monthly_sales_2023 = sales_customers[sales_customers["Year"]==2023].groupby('Month')['TotalAmount'].sum().reset_index()
print("Monthly Sales:\n", monthly_sales_2023)

plt.figure(figsize=(9, 4.5))
plt.plot(monthly_sales_2023["Month"],monthly_sales_2023["TotalAmount"],marker='o', color="#2980b9")
plt.title('Seasonal Trends in Customer Purchases (2023)')
plt.ylabel('Total Revenue')
# plt.yticks(range(0,8000000,1000000))
plt.yscale("log")
plt.show()


sales_customers['OrderDate'] = pd.to_datetime(sales_customers['OrderDate'])
sales_customers['Month'] = sales_customers['OrderDate'].dt.month

monthly_sales_2024 = sales_customers[sales_customers["Year"]==2024].groupby('Month')['TotalAmount'].sum().reset_index()
print("Monthly Sales:\n", monthly_sales_2023)

plt.figure(figsize=(9, 4.5))
plt.plot(monthly_sales_2024["Month"],monthly_sales_2024["TotalAmount"],marker='o', color="#2980b9")
plt.title('Seasonal Trends in Customer Purchases (2024)')
plt.ylabel('Total Revenue')
plt.yscale("log")
plt.show()

sales_customers['OrderDate'] = pd.to_datetime(sales_customers['OrderDate'])
sales_customers['Month'] = sales_customers['OrderDate'].dt.month

monthly_sales_2025 = sales_customers[sales_customers["Year"]==2025].groupby('Month')['TotalAmount'].sum().reset_index()
print("Monthly Sales:\n", monthly_sales_2023)

plt.figure(figsize=(9, 4.5))
plt.plot(monthly_sales_2025["Month"],monthly_sales_2025["TotalAmount"],marker='o', color="#2980b9")
plt.title('Seasonal Trends in Customer Purchases (2025)')
plt.ylabel('Total Revenue')
plt.yscale("log")
plt.show()


# Correlation between demographic columns and sales metrics (e.g., frequency or total amount)
demographic_sales = sales_customers.groupby(['CustomerCountry', 'CustomerCity']).agg({
    'TotalAmount': 'sum',
    'CustomerID': 'count'
}).rename(columns={'CustomerID': 'OrderFrequency'})

print("Demographic Correlation with Sales Metrics:\n", demographic_sales)

# Visualize correlation (heatmap example)
plt.figure(figsize=(5,3.5))
sns.heatmap(demographic_sales.corr(), annot=True, cmap='coolwarm')
plt.title('Correlation Between Demographics and Sales Metrics')
plt.show()



#Which customer demographics correlate with high purchase frequency or larger order sizes?
# Merge sales with customers and products
sales_customers_products = sales.merge(customer, on='CustomerID', how='left').merge(product, on='ProductID', how='left')

# Group by CustomerCountry and ProductCategory
customer_product_preference = sales_customers_products.groupby(['CustomerCountry', 'ProductCategory'])['TotalAmount'].sum().unstack()
customer_product_preference
# # Heatmap of preferences
plt.figure(figsize=(12, 8))
sns.heatmap(customer_product_preference, cmap='Blues', annot=True, fmt='.1f')
plt.title('Customer Type (Country) vs. Product Preference')
plt.show()






#What are the overall sales trends (e.g., growth or decline) over time?
# Extract year and month from OrderDate
sales['OrderDate'] = pd.to_datetime(sales['OrderDate'])
sales['Year'] = sales['OrderDate'].dt.year
sales['Month'] = sales['OrderDate'].dt.month

# Group by Year and Month to observe trends
sales_trends = sales.groupby(['Year', 'Month'])['TotalAmount'].sum().reset_index()

# Line plot for sales trends over time
plt.figure(figsize=(12, 6))
sns.lineplot(data=sales_trends, x='Month', y='TotalAmount', hue='Year', marker='o')
plt.title('Sales Trends Over Time')
plt.ylabel('Total Revenue')
plt.xlabel('Month')
plt.show()



#What is the overall sales growth rate over time?
sales_customer_product['YearMonth'] = sales_customer_product['OrderDate'].dt.to_period('M')
sales_growth = sales_customer_product.groupby(['YearMonth'])['TotalAmount'].sum().pct_change()
print(sales_growth * 100)
sales_growth.plot(kind='line', title='Sales Growth Rate', figsize=(12, 6),color= "#247afd")
plt.show()


#Which products generate the most revenue or have the highest sales volume?
# Merge sales with product data
sales_products = sales.merge(product, on='ProductID', how='left')

# Revenue by product
revenue_by_product = sales_products.groupby('ProductName')['TotalAmount'].sum().sort_values(ascending=False)
print("Top Products by Revenue:\n", revenue_by_product.head(10))

# Sales volume by product
volume_by_product = sales_products.groupby('ProductName')['Quantity'].sum().sort_values(ascending=False)
print("Top Products by Sales Volume:\n", volume_by_product.head(10))

# Plot revenue and sales volume
revenue_by_product.head(10).plot(kind='bar', figsize=(12, 6), title='Top Products by Revenue', ylabel='Total Revenue', color="#1abc9c")
plt.show()

volume_by_product.head(10).plot(kind='bar', figsize=(12, 6), title='Top Products by Sales Volume', ylabel='Total Quantity', color="#3498db")
plt.show()



#What is the profit margin across different products or product categories?
# Calculate profit margin (Revenue - Cost) / Revenue
sales_products['ProfitMargin'] = (sales_products['TotalAmount'] - (sales_products['Quantity'] * sales_products['BasePrice'])) / sales_products['TotalAmount']

# Profit margin by product
profit_margin_by_product = sales_products.groupby('ProductName')['ProfitMargin'].mean().sort_values(ascending=False)
print(f"Top Products by Profit Margin:\n, {profit_margin_by_product.head(10) * 100}")

# Plot profit margins
profit_margin_by_product.head(10).plot(kind='bar', figsize=(12, 6), title='Top Products by Profit Margin', ylabel='Profit Margin', color="#e74c3c")
plt.show()




# Profit margin by product category
profit_margin_by_category = sales_products.groupby('ProductCategory')['ProfitMargin'].mean().sort_values(ascending=False)
print(f"Profit Margin by Product Category:\n , {profit_margin_by_category*100}")
profit_margin_by_category.plot(kind='bar', figsize=(12, 6), title='Profit Margin by Product Category', ylabel='Profit Margin', color="#9b59b6")
plt.show()


#Are there any low-profit products that need to be addressed?
# Identify low-profit products
low_profit_products = sales_products[sales_products['ProfitMargin'] < 0.1]  # Products with less than 10% profit margin
low_profit_summary = low_profit_products.groupby('ProductName')['ProfitMargin'].mean().sort_values()
print("Low-Profit Products:\n", low_profit_summary.head(10))

# Plot low-profit products
low_profit_summary.head(10).plot(kind='bar', figsize=(12, 6), title='Low-Profit Products', ylabel='Profit Margin', color="#e74c3c")
plt.show()






# Merge inventory and sales data
sales_inventory = sales.merge(inventory, on='ProductID', how='left')
sales_inventory_product = sales_inventory.merge(product,  on='ProductID', how='left')
sales_inventory_product


#Which products are frequently out of stock, and how does this affect sales?

out_of_stock_products = sales_inventory[sales_inventory['OnHand'] == 0]

# Check if there are any out-of-stock products
if out_of_stock_products.empty:
    print("No out-of-stock items. No loss of sales due to stockouts.")
else:
    # Calculate the number of times each product was out of stock
    out_of_stock_counts = out_of_stock_products['ProductID'].value_counts()
    print("Products Frequently Out of Stock:\n", out_of_stock_counts)

    # Impact on sales (TotalAmount lost when products were out of stock)
    sales_loss_due_to_stock = out_of_stock_products.groupby('ProductName')['TotalAmount'].sum().sort_values(ascending=False)
    print("Sales Impact Due to Stockouts:\n", sales_loss_due_to_stock)

    # Optional: Plot the sales loss due to stockouts
    sales_loss_due_to_stock.plot(kind='bar', figsize=(12, 6), title='Sales Impact Due to Stockouts', ylabel='Lost Sales', color="#e74c3c")
    plt.show()



#What is the average inventory turnover rate across product categories?
# Calculate Inventory Turnover Rate = Total Sales Quantity / Average OnHand Inventory
sales_inventory_product['TurnoverRate'] = sales_inventory_product['Quantity'] / (sales_inventory_product['OnHand'] + 1)  # Avoid division by zero

# Group by product category and calculate average turnover rate
turnover_rate_by_category = sales_inventory_product.groupby('ProductCategory')['TurnoverRate'].mean().sort_values(ascending=False)
print("Average Inventory Turnover Rate by Category:\n", turnover_rate_by_category)

# Plot turnover rate by category
turnover_rate_by_category.plot(kind='bar', figsize=(12, 6), title='Average Inventory Turnover Rate by Category', ylabel='Turnover Rate', color="#3498db")
plt.show()



#Are there products with excessive stock levels leading to high carrying costs?

# Identify products with excessive stock (OnHand > 90th percentile)
excessive_stock_threshold = sales_inventory_product['OnHand'].quantile(0.9)
excessive_stock_products = sales_inventory_product[sales_inventory['OnHand'] > excessive_stock_threshold]

# Calculate total carrying costs (Assume carrying cost per unit = 0.1 * BasePrice)
excessive_stock_products['CarryingCost'] = excessive_stock_products['OnHand'] * 0.1 * excessive_stock_products['BasePrice']

# Products with the highest carrying costs
carrying_cost_summary = excessive_stock_products.groupby('ProductName')['CarryingCost'].sum().sort_values(ascending=False)
print("Products with High Carrying Costs:\n", carrying_cost_summary.head(10))

# Plot high carrying costs
carrying_cost_summary.head(10).plot(kind='bar', figsize=(12, 6), title='Products with High Carrying Costs', ylabel='Total Carrying Cost', color="#f39c12")
plt.show()



#Which warehouses consistently operate near capacity, and which are underutilized?
# Calculate warehouse utilization
inventory_product_warehouse['Utilization'] = inventory_product_warehouse['OnHand'] / inventory_product_warehouse['Capacity']

# Group by warehouse to analyze average utilization
warehouse_utilization = inventory_product_warehouse.groupby(['WarehouseName','Location'])['Utilization'].mean().sort_values(ascending=False)
print("Warehouse Utilization:\n", warehouse_utilization)

# Plot warehouse utilization
warehouse_utilization.plot(kind='bar', figsize=(12, 6), title='Warehouse Utilization', ylabel='Average Utilization', color="#8e44ad")
plt.show()


#What is the time lag between OnOrder inventory and stock replenishment?

# Calculate time lag (Assume 'LastUpdated' is the replenishment date)
inventory['LastUpdated'] = pd.to_datetime(sales_inventory_product['LastUpdated'])
sales_inventory_product['OrderDate'] = pd.to_datetime(sales_inventory_product['OrderDate'])
sales_inventory_product['TimeLag'] = (sales_inventory_product['LastUpdated'] - sales_inventory_product['OrderDate']).dt.days

# Average time lag by product
time_lag_summary = sales_inventory_product.groupby('ProductName')['TimeLag'].mean().sort_values()
print("Average Time Lag by Product:\n", time_lag_summary)

# Plot time lag
time_lag_summary.plot(kind='bar', figsize=(12, 6), title='Time Lag Between OnOrder and Stock Replenishment', ylabel='Days', color="#9b59b6")
plt.show()



#Are there discrepancies between inventory levels across warehouses and demand in nearby regions?
# Merge sales, inventory, and warehouse data
regional_inventory_demand = sales.merge(inventory, on='ProductID', how='inner').merge(wh, on='WarehouseID', how='left')

# Group by region to compare inventory and demand
regional_discrepancies = regional_inventory_demand.groupby('Location').agg({
    'OnHand': 'sum',
    'Quantity': 'sum'
}).rename(columns={'OnHand': 'TotalInventory', 'Quantity': 'TotalDemand'})

# Calculate the discrepancy (inventory - demand)
regional_discrepancies['Discrepancy'] = regional_discrepancies['TotalInventory'] - regional_discrepancies['TotalDemand']
regional_discrepancies=regional_discrepancies.sort_values(by='Discrepancy',ascending=False)
print("Discrepancies Between Inventory and Demand by Region:\n", regional_discrepancies)

# Plot discrepancies
regional_discrepancies['Discrepancy'].plot(kind='bar', figsize=(12, 6), title='Discrepancies Between Inventory and Demand by Region', ylabel='Discrepancy', color="#e74c3c")
plt.show()






#Which product categories are the most profitable?

# Merge sales with product data
sales_products = sales.merge(product, on='ProductID', how='left')

# Calculate profit for each product (TotalAmount - (Quantity * BasePrice))
sales_products['Profit'] = sales_products['TotalAmount'] - (sales_products['Quantity'] * sales_products['BasePrice'])

# Group by Product Category to calculate total profit
profit_by_category = sales_products.groupby('ProductCategory')['Profit'].sum().sort_values(ascending=False)
print("Profit by Product Category:\n", profit_by_category)

# Plot profit by product category
profit_by_category.plot(kind='bar', figsize=(12, 6), title='Profit by Product Category', ylabel='Total Profit', color="#16a085")
plt.show()



#What is the relationship between product price and sales volume?

# Scatter plot for UnitPrice vs. Quantity
plt.figure(figsize=(12, 6))
sns.scatterplot(data=sales_products, x='UnitPrice', y='Quantity', alpha=0.7, color="#3498db")
plt.title('Relationship Between Product Price and Sales Volume')
plt.xlabel('Unit Price')
plt.ylabel('Sales Volume')
plt.show()

# Correlation between price and sales volume
price_volume_corr = sales_products[['UnitPrice', 'Quantity']].corr()
print("Correlation Between Product Price and Sales Volume:\n", price_volume_corr)



#Are certain product categories more popular in specific regions or customer segments?

# Merge sales, customer, and product data
sales_customers_products = sales.merge(customer, on='CustomerID', how='left').merge(product, on='ProductID', how='left')

# Group by Customer Country and Product Category
regional_product_popularity = sales_customers_products.groupby(['CustomerCountry', 'ProductCategory'])['Quantity'].sum().unstack()

# Heatmap for product popularity by region
plt.figure(figsize=(12, 8))
sns.heatmap(regional_product_popularity, cmap='coolwarm', annot=True, fmt='.0f')
plt.title('Product Popularity (Quantity) by Region (Customer Country)')
plt.ylabel('Product Category')
plt.xlabel('Customer Country')
plt.show()


production_products = porder.merge(product, on='ProductID', how='left')
production_products.head()


#Which products have consistent demand versus those that are seasonal or declining?
# Extract Year-Month for demand trends
sales_products['YearMonth'] = sales_products['OrderDate'].dt.to_period('M')

# Group by product and month to analyze demand trends
demand_trends = sales_products.groupby(['ProductCategory', 'YearMonth'])['Quantity'].sum().reset_index()

# Pivot for visualizing trends
demand_trends_pivot = demand_trends.pivot(index='YearMonth', columns='ProductCategory', values='Quantity').fillna(0)

# Line plot for demand trends of top products
demand_trends_pivot.iloc[:, :5].plot(figsize=(14, 6), title='Demand Trends for Top Products', ylabel='Sales Volume')
plt.show()






production_product = porder.merge(pline, on='ProductionLineID', how='left')
production_product


production_products = production_product.merge(product, on='ProductID', how='left')
production_products


#Which production lines are operating at or near capacity?
# Calculate production line utilization (BatchSize / MaxCapacity)
production_products['Utilization'] = production_products['BatchSize'] / production_products['MaxCapacity']

# Identify production lines operating near or at capacity
high_utilization_lines = production_products[production_products['Utilization'] > 0.9]
print("Production Lines Operating Near Capacity:\n", high_utilization_lines[['LineName', 'Utilization']])

# Average utilization by production line
average_utilization = production_products.groupby('LineName')['Utilization'].mean().sort_values(ascending=False)
print("Average Utilization by Production Line:\n", average_utilization)

# Plot utilization by line
average_utilization.plot(kind='bar', figsize=(12, 6), title='Production Line Utilization', ylabel='Average Utilization', color="#3498db")
plt.show()



#Are there inefficiencies in production costs (e.g., high UnitCost for specific products)?
cost_price = pd.pivot_table(
    production_products,
    values=['UnitCost', 'BasePrice'],
    index='ProductCategory',
    aggfunc='sum'
).reset_index()

cost_price = cost_price.sort_values(by="UnitCost", ascending=False).reset_index(drop=True)
cost_price['Difference'] = cost_price['BasePrice'] - cost_price['UnitCost']
print(cost_price)
cost_price.plot(
    x='ProductCategory', 
    y=['UnitCost', 'BasePrice', 'Difference'], 
    kind='bar', 
    figsize=(12, 6),
    title='UnitCost, BasePrice, and Difference by Product Category'
)

plt.xlabel('Product Category')
plt.ylabel('Amount')
plt.xticks(rotation=45)  # Rotate x-axis labels for better readability
plt.tight_layout()  # Adjust layout to prevent clipping of labels
plt.show()


#What is the average production lead time for each product?

# Calculate lead time (Assume 'ProductionDate' and 'OrderDate' columns exist)
porder['ProductionDate'] = pd.to_datetime(porder['ProductionDate'])
sales['OrderDate'] = pd.to_datetime(sales['OrderDate'])

# Merge production and sales data to calculate lead time
sales_productions = sales.merge(porder, on='ProductID', how='inner')
sales_production = sales_productions.merge(product, on='ProductID', how='left')
sales_production['LeadTime'] = (sales_production['ProductionDate'] - sales_production['OrderDate']).dt.days

# Average lead time by product
average_lead_time = sales_production.groupby('ProductName')['LeadTime'].mean().sort_values()
print("Average Production Lead Time by Product:\n", average_lead_time)

# Plot lead time
average_lead_time.plot(kind='bar', figsize=(12, 6), title='Average Production Lead Time by Product', ylabel='Lead Time (Days)', color="#9b59b6")
plt.show()



#Are There Specific Production Lines with High Downtime or Underutilization?
# Downtime can be derived if we have planned and actual operational hours or similar metrics
# For this example, we use low utilization to infer underutilization
underutilized_lines = production_products[production_products['Utilization'] < 0.5]
print("Underutilized Production Lines:\n", underutilized_lines[['LineName', 'Utilization']])

# Average underutilization by line
average_underutilization = production_products.groupby('LineName')['Utilization'].mean().sort_values()
print("Average Underutilization by Production Line:\n", average_underutilization)

# Plot underutilized lines
average_underutilization.plot(kind='bar', figsize=(12, 6), title='Underutilized Production Lines', ylabel='Average Utilization', color="#e67e22")
plt.show()



#What is the average production lead time for each product?
# Calculate variance between planned (MaxCapacity) and actual output (BatchSize)
production_products['Variance'] = production_products['MaxCapacity'] - production_products['BatchSize']

# Count occurrences of significant variances (e.g., variance > 20% of MaxCapacity)
significant_variance = production_products[abs(production_products['Variance']) > 0.2 * production_products['MaxCapacity']]
print("Production Lines with Significant Variances:\n", significant_variance[['LineName', 'Variance']])

# Plot variances by production line
variance_by_line = production_products.groupby('LineName')['Variance'].mean().sort_values()
variance_by_line.plot(kind='bar', figsize=(12, 6), title='Production Variances by Line', ylabel='Average Variance', color="#16a085")
plt.show()






#How are suppliers distributed across different countries?

# Count suppliers by country
suppliers_by_country = supplier.groupby('SupplierCountry').size().sort_values(ascending=False)
print("Number of Suppliers by Country:\n", suppliers_by_country)

# Visualize supplier distribution by country
suppliers_by_country.plot(kind='bar', figsize=(10, 6), title='Suppliers by Country', ylabel='Number of Suppliers', color="#3498db")
plt.show()


#What are the most common payment terms among suppliers?

# Count suppliers by payment terms
payment_terms_distribution = supplier['PaymentTerms'].value_counts()
print("Payment Terms Distribution of Suppliers :\n", payment_terms_distribution)

# Visualize payment terms distribution
payment_terms_distribution.plot(kind='pie', figsize=(6, 6), autopct='%1.1f%%', title='Payment Terms Distribution of Suppliers')
plt.ylabel('')
plt.show()


#How do payment terms vary by region or country?

# Summary table by country and payment terms
supplier_summary = supplier.groupby(['SupplierCountry', 'PaymentTerms']).size().unstack(fill_value=0)
print("Supplier Summary Table:\n", supplier_summary)

# Heatmap for supplier distribution by country and payment terms
plt.figure(figsize=(10, 6))
sns.heatmap(supplier_summary, annot=True, cmap='Blues', fmt='d')
plt.title('Suppliers by Country and Payment Terms')
plt.ylabel('Country')
plt.xlabel('Payment Terms')
plt.show()





#Which warehouses experience the highest levels of throughput (inbound and outbound)?
# Calculate inbound and outbound activity
# Assuming 'OnHand' represents inbound and 'Quantity' in sales represents outbound
warehouse_throughput = inventory.merge(sales, on='ProductID', how='left') \
                                .groupby('WarehouseID').agg({
                                    'OnHand': 'sum',       # Inbound activity
                                    'Quantity': 'sum'      # Outbound activity
                                }).rename(columns={'OnHand': 'Inbound', 'Quantity': 'Outbound'})

# Add total throughput
warehouse_throughput['TotalThroughput'] = warehouse_throughput['Inbound'] + warehouse_throughput['Outbound']
warehouse_throughput = warehouse_throughput.sort_values(by='TotalThroughput' ,ascending=False)
print("Warehouse Throughput:\n", warehouse_throughput)

# Plot throughput by warehouse
warehouse_throughput.plot(kind='bar', figsize=(12, 6), title='Warehouse Throughput (Inbound and Outbound)', ylabel='Quantity')
plt.show()



#Are warehouse capacities optimally utilized, or is there space inefficiency?

# Calculate utilization (OnHand / Capacity)
inventory_product_warehouse['Utilization'] = inventory_product_warehouse['OnHand'] / inventory_product_warehouse['Capacity']

# Average utilization by warehouse
warehouse_utilization = inventory_product_warehouse.groupby('WarehouseID')['Utilization'].mean().sort_values()
print("Warehouse Utilization:\n", warehouse_utilization)

# Plot warehouse utilization
warehouse_utilization.plot(kind='bar', figsize=(12, 6), title='Warehouse Utilization', ylabel='Average Utilization', color="#16a085")
plt.axhline(y=1.0, color='r', linestyle='--', label='Full Capacity')
plt.legend()
plt.show()



#How do inventory holding costs vary across warehouses?

# Calculate holding costs (Assuming 0.1 * OnHand * BasePrice as holding cost per product)
inventory_holding_costs = inventory.merge(product, on='ProductID', how='left')
inventory_holding_costs['HoldingCost'] = inventory_holding_costs['OnHand'] * 0.1 * inventory_holding_costs['BasePrice']

# Total holding cost by warehouse
holding_cost_by_warehouse = inventory_holding_costs.groupby('WarehouseID')['HoldingCost'].sum().sort_values(ascending=False)
print("Inventory Holding Costs by Warehouse:\n", holding_cost_by_warehouse)

# Plot holding costs by warehouse
holding_cost_by_warehouse.plot(kind='bar', figsize=(12, 6), title='Inventory Holding Costs by Warehouse', ylabel='Total Holding Cost', color="#e74c3c")
plt.show()



# Merge sales, customer, and warehouse data
sales_warehouse = sales.merge(customer, on='CustomerID', how='left') \
                       .merge(product, on='ProductID', how='left') \
                       .merge(inventory, on='ProductID', how='left') \
                       .merge(wh, on='WarehouseID', how='left')





#What are the trends in production costs, and how do they affect product pricing?

# Merge production orders with products
production_costs = porder.merge(product, on='ProductID', how='left')

# Calculate average production cost over time
production_costs['ProductionMonth'] = pd.to_datetime(production_costs['ProductionDate']).dt.to_period('M')
monthly_production_cost = production_costs.groupby('ProductionMonth')['TotalProductionCost'].mean()
print("Trends in Production Costs:\n", monthly_production_cost)

# Plot production cost trends
monthly_production_cost.plot(kind='line', figsize=(12, 6), title='Monthly Production Cost Trends', ylabel='Average Production Cost', marker='o', color="#9b59b6")
plt.show()

# Compare production cost with pricing
pricing_vs_cost = production_costs.groupby('ProductName').agg({
    'BasePrice': 'mean',
    'UnitCost': 'mean'
}).sort_values(by='BasePrice')
print("Comparison of Pricing and Production Costs:\n", pricing_vs_cost)

# Plot pricing vs. production costs
pricing_vs_cost.plot(kind='bar', figsize=(12, 6), title='Pricing vs Production Costs by Product', ylabel='Amount', color=["#1abc9c", "#e74c3c"])
plt.show()



#How do operating costs (e.g., production, warehousing, logistics) compare to revenue?
# Merge all data to calculate operating costs
warehouse_costs = inventory.merge(product, on='ProductID', how='left')
warehouse_costs['HoldingCost'] = warehouse_costs['OnHand'] * 0.1 * warehouse_costs['BasePrice']

# Calculate total operating costs
total_operating_costs = {
    'ProductionCost': production_costs['TotalProductionCost'].sum(),
    'WarehousingCost': warehouse_costs['HoldingCost'].sum(),
    'Revenue': sales['TotalAmount'].sum()
}
print("Total Operating Costs and Revenue:\n", total_operating_costs)

# Plot operating costs vs revenue
pd.DataFrame(total_operating_costs, index=['Total']).plot(kind='bar', figsize=(12, 6), title='Operating Costs vs Revenue', ylabel='Amount', color=["#e74c3c", "#3498db", "#1abc9c"])
plt.show()






# Identify overstocked products (e.g., OnHand > 90th percentile)
overstock_threshold = inventory['OnHand'].quantile(0.9)
overstock_risk = inventory[inventory['OnHand'] > overstock_threshold]
overstock_summary = overstock_risk.groupby('ProductID')['OnHand'].sum().reset_index().merge(product, on='ProductID', how='left')
overstock_summary = overstock_summary.sort_values(by='OnHand' , ascending=False)
print("Products at Risk of Overstock:\n", overstock_summary)

# Plot products with overstock risk
overstock_summary.plot(x='ProductName', y='OnHand', kind='bar', figsize=(12, 6), title='Products with Overstock Risk', ylabel='Stock Levels', color="#3498db")
plt.show()



# Assuming production cost data is available
total_revenue = sales['TotalAmount'].sum()
total_production_cost = porder['TotalProductionCost'].sum()

# Simulate revenue loss for a 10% production disruption
disruption_impact = total_revenue - (total_revenue * 0.1)
print(f"Revenue After 10% Production Disruption: ${disruption_impact}")
print(f"Revenue Loss Due to Disruption: ${total_revenue - disruption_impact}")



# Assuming delayed shipments affect revenue
shipment_delays = inventory[inventory['OnHand'] == 0]
lost_revenue = shipment_delays.merge(sales, on='ProductID', how='left')['TotalAmount'].sum()
print(f"Estimated Revenue Loss Due to Stockouts: ${lost_revenue}")


# Increase production costs by 10% and calculate the impact on profit
increased_production_cost = porder['TotalProductionCost'] * 1.1
profit_impact = total_revenue - increased_production_cost.sum()
print(f"Profit After 10% Increase in Production Costs: ${profit_impact}")
print(f"Profit Reduction: ${total_revenue - profit_impact}")



# Decrease sales price by 5% and calculate the impact on revenue
price_sensitivity = sales.copy()
price_sensitivity['ReducedPriceRevenue'] = sales['TotalAmount'] * 0.95
reduced_revenue = price_sensitivity['ReducedPriceRevenue'].sum()
print(f"Revenue After 5% Price Reduction: ${reduced_revenue}")
print(f"Revenue Loss Due to Price Reduction: ${total_revenue - reduced_revenue}")















# # Scatter plot: UnitPrice vs. Quantity
# plt.figure(figsize=(12, 6))
# sns.scatterplot(data=sales, x='UnitPrice', y='Quantity', alpha=0.7, color="#16a085")
# plt.title('Pricing Impact on Sales Volume')
# plt.xlabel('Unit Price')
# plt.ylabel('Quantity Sold')
# plt.show()

# # Scatter plot: UnitPrice vs. TotalAmount
# plt.figure(figsize=(12, 6))
# sns.scatterplot(data=sales, x='UnitPrice', y='TotalAmount', alpha=0.7, color="#e67e22")
# plt.title('Pricing Impact on Revenue')
# plt.xlabel('Unit Price')
# plt.ylabel('Total Revenue')
# plt.show()



# # Group by ProductName and calculate total production cost

# production_sales = sales.merge(production_order_details, on='ProductID', how='left')
# production_sales.head()


# productioncost_vs_sales = production_sales.groupby('ProductName').agg({
#     'TotalAmount': 'sum',
#     'TotalProductionCost': 'sum',
# }).sort_values(by='TotalAmount', ascending=False)

# print(productioncost_vs_sales)
# #productioncost_vs_sales = production_sales.groupby('ProductName')['TotalProductionCost',].sum().sort_values(ascending=False)

# # Plot production costs by product
# productioncost_vs_sales.plot(kind='bar', figsize=( 15, 6), title='Production Costs and Sales by Product', ylabel='Total Production Cost')
# plt.show()


# # Merge sales and inventory data
# sales_inventory = sales_customer_product.merge(inventory_product_warehouse, on='ProductID', how='inner')
# print(sales_inventory.head())


# sales_customer_product['Quarter'] = sales_customer_product['OrderDate'].dt.quarter
# sales_customer_product['Year'] = sales_customer_product['OrderDate'].dt.year
# sales_by_quarter = sales_customer_product.groupby(['Quarter','Year'])['TotalAmount'].sum().unstack()
# sales_by_quarter.plot(kind='line', figsize=(10, 6), title='Quarterly Sales Trends')
# plt.show()


# # Calculate the week number and add it as a new column
# production_order_details["ProductionWeek"] = production_order_details["ProductionDate"].dt.isocalendar().week
# production_order_details["ProductionYear"] = production_order_details["ProductionDate"].dt.year


# production_trends = production_order_details.groupby(["ProductionYear",'ProductionWeek']).agg({"BatchSize":"sum"}).reset_index()

# production_trends_2023 = production_trends.loc[production_trends["ProductionYear"]==2023,:]
# production_trends_2024 = production_trends.loc[production_trends["ProductionYear"]==2024,:]
# production_trends_2025 = production_trends.loc[production_trends["ProductionYear"]==2025,:]

# print(production_trends_2023["BatchSize"].std())
# print(production_trends_2024["BatchSize"].std())
# print(production_trends_2025["BatchSize"].std())

# # # Plot the production trends
# plt.figure(figsize=(15,5))
# plt.plot(production_trends_2023["ProductionWeek"],production_trends_2023["BatchSize"],label="2023")
# plt.plot(production_trends_2024["ProductionWeek"],production_trends_2024["BatchSize"],label="2024")
# plt.plot(production_trends_2025["ProductionWeek"],production_trends_2025["BatchSize"],label="2025")
# plt.legend()
# plt.grid(True)
# plt.xticks(range(1,53,2))
# plt.xlabel("Week")
# plt.ylabel("BatchSize")
# plt.show()


# grouped_by = sales_customer_product.groupby(["SaleYear","ProductCategory"])["TotalAmount"].sum().reset_index()
# grouped_by = grouped_by.sort_values(by=["SaleYear","TotalAmount"],ascending=False)
# print(grouped_by)


# palette = [ "#014182", "#247afd" ,"#82cafc", "#fffd78" ,"#fddc5c", "#fec615"]

# # "#ffffb6" ,color= "#247afd","#0d75f8"
# # Create the figure and plot

# plt.figure(figsize=(12, 6))
# sns.barplot(
#     data=grouped_by,
#     x="SaleYear",
#     y="TotalAmount",
#     hue="ProductCategory",
#     palette=palette
# )

# # Add chart labels and title
# plt.title("Sales by Category for Each Year", fontsize=16)
# plt.xlabel("Year", fontsize=14)
# plt.ylabel("Total Sales Amount", fontsize=14)
# plt.legend(title="Product Category", fontsize=12)
# plt.xticks(rotation=45, fontsize=12)
# plt.tight_layout()

# # Display the chart
# plt.show()




